{
 "cells": [
  {
   "cell_type": "code",
   "execution_count": 1,
   "metadata": {},
   "outputs": [],
   "source": [
    "import numpy as np\n",
    "import pandas as pd"
   ]
  },
  {
   "cell_type": "code",
   "execution_count": 15,
   "metadata": {},
   "outputs": [],
   "source": [
    "import scattertext as st"
   ]
  },
  {
   "cell_type": "code",
   "execution_count": 4,
   "metadata": {},
   "outputs": [],
   "source": [
    "df = pd.read_pickle(\"./df_all.pkl\")"
   ]
  },
  {
   "cell_type": "markdown",
   "metadata": {},
   "source": [
    "**Try BMI**"
   ]
  },
  {
   "cell_type": "code",
   "execution_count": 5,
   "metadata": {},
   "outputs": [],
   "source": [
    "# Data Frame already has BMI column that was created in earlier analysis\n",
    "## I'll drop it and re-create once again\n",
    "\n",
    "df.drop('BMI', axis=1, inplace=True) "
   ]
  },
  {
   "cell_type": "code",
   "execution_count": 7,
   "metadata": {},
   "outputs": [],
   "source": [
    "df['BMI'] = df['height'] + ' ' + df['weight']"
   ]
  },
  {
   "cell_type": "code",
   "execution_count": 8,
   "metadata": {},
   "outputs": [],
   "source": [
    "def BMI(x):\n",
    "    if x == np.nan:\n",
    "        return np.nan\n",
    "    else:\n",
    "        try:\n",
    "            h = (int(x.split(':')[1].split(' ')[1][0])*12 + int(x.split(':')[1].split(' ')[2][0]))**2\n",
    "            w = int(x.split(':')[-1].strip())\n",
    "            bmi = round((w/h)*703,2)\n",
    "        except (IndexError, AttributeError, ValueError):\n",
    "            bmi = np.nan\n",
    "        return bmi"
   ]
  },
  {
   "cell_type": "code",
   "execution_count": 9,
   "metadata": {},
   "outputs": [],
   "source": [
    "df['BMI'] = df['BMI'].apply(BMI)"
   ]
  },
  {
   "cell_type": "markdown",
   "metadata": {},
   "source": [
    "ScatterText steps"
   ]
  },
  {
   "cell_type": "code",
   "execution_count": 13,
   "metadata": {},
   "outputs": [],
   "source": [
    "# Separating data into higher BMI and lower BMI\n",
    "df['body_type'] = np.where(df['BMI'] >= 24.5, 'higher BMI', 'lower BMI')"
   ]
  },
  {
   "cell_type": "code",
   "execution_count": 14,
   "metadata": {},
   "outputs": [
    {
     "data": {
      "text/plain": [
       "Index(['name', 'review_title', 'review_body', 'rating', 'date_posted',\n",
       "       'usual_size', 'size_purchased', 'height', 'fit', 'weight',\n",
       "       'product_type', 'review_clean', 'review_nltk', 'majority',\n",
       "       'height_type', 'BMI', 'body_type'],\n",
       "      dtype='object')"
      ]
     },
     "execution_count": 14,
     "metadata": {},
     "output_type": "execute_result"
    }
   ],
   "source": [
    "df.columns"
   ]
  },
  {
   "cell_type": "code",
   "execution_count": 22,
   "metadata": {},
   "outputs": [],
   "source": [
    "stop_words_scatter = (['everlane', 'j', 'crew', 'holy', 'stress', 'fyi', 'name', 'words', 'and/or',\n",
    "                      'hello', 'the', 'off', 'no', 'a', 'e', 'c', 'tts', 'jcrew', 'vs',\n",
    "                      'lol', 'jeans', 'darn', 'sz', 'not', 'me', 'ie', 'ca', 'ish', 'aka', 'levi', 'eagle', 'cm',\n",
    "                      'grail', 'hi', 'us', 'they', 'l', 'sf', 'asap', 'yes', 'which', 'gosh', 'notch', 'fav', 'h',\n",
    "                      'ny', 'madewell', 'girl', 'ps', 'cheeky', 'skinny', 'has', 'have', 'it', 'uk', 'con',\n",
    "                      'has', 'own', 'highrise', 'highwaisted', 'none', 'midrise', 'are', 'sister', 'theyre', 'theyll',\n",
    "                      'white', 'fit', 'light', 'highwaist', 'midblue', 'summer', 'normal', 'crew', 'everlane', 'ive'])"
   ]
  },
  {
   "cell_type": "code",
   "execution_count": 23,
   "metadata": {},
   "outputs": [],
   "source": [
    "def another_cleaning(text, stop_list):\n",
    "    list_words = text.split(' ')\n",
    "    for word in list_words:\n",
    "        if word in stop_list:\n",
    "            list_words.remove(word)\n",
    "    return ' '.join(list_words)"
   ]
  },
  {
   "cell_type": "code",
   "execution_count": 24,
   "metadata": {},
   "outputs": [],
   "source": [
    "df['review_nltk'] = df['review_nltk'].apply(another_cleaning, stop_list=stop_words_scatter)"
   ]
  },
  {
   "cell_type": "code",
   "execution_count": 25,
   "metadata": {},
   "outputs": [],
   "source": [
    "corpus = st.CorpusFromPandas(df,\n",
    "                             category_col='body_type',\n",
    "                             text_col='review_nltk',\n",
    "                             nlp=st.whitespace_nlp_with_sentences\n",
    "                            ).build()"
   ]
  },
  {
   "cell_type": "code",
   "execution_count": 26,
   "metadata": {},
   "outputs": [],
   "source": [
    "html = st.produce_scattertext_explorer(\n",
    "        corpus,\n",
    "        category='higher BMI',\n",
    "        category_name='higher BMI',\n",
    "        not_category_name='lower BMI',\n",
    "        minimum_term_frequency=5,\n",
    "        pmi_threshold_coefficient=5,\n",
    "        width_in_pixels=1000,\n",
    "        metadata=df['name'],\n",
    "        )\n",
    "\n",
    "open('BMI.html', 'wb').write(html.encode('utf-8'));"
   ]
  },
  {
   "cell_type": "code",
   "execution_count": null,
   "metadata": {},
   "outputs": [],
   "source": []
  }
 ],
 "metadata": {
  "kernelspec": {
   "display_name": "Python 3",
   "language": "python",
   "name": "python3"
  },
  "language_info": {
   "codemirror_mode": {
    "name": "ipython",
    "version": 3
   },
   "file_extension": ".py",
   "mimetype": "text/x-python",
   "name": "python",
   "nbconvert_exporter": "python",
   "pygments_lexer": "ipython3",
   "version": "3.7.7"
  }
 },
 "nbformat": 4,
 "nbformat_minor": 4
}
